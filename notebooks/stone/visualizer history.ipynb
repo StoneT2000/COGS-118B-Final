{
 "cells": [
  {
   "cell_type": "code",
   "execution_count": 1,
   "id": "c8bbeb5f",
   "metadata": {},
   "outputs": [],
   "source": [
    "import matplotlib.pyplot as plt\n",
    "import torch\n",
    "import numpy as np\n",
    "import os\n",
    "import os.path as osp\n",
    "import pandas as pd"
   ]
  },
  {
   "cell_type": "code",
   "execution_count": null,
   "id": "f9d158d8",
   "metadata": {},
   "outputs": [],
   "source": [
    "### CHANGE THIS\n",
    "PATH = \"mobilenet_ckpts2\""
   ]
  },
  {
   "cell_type": "code",
   "execution_count": 2,
   "id": "4a61f020",
   "metadata": {},
   "outputs": [],
   "source": [
    "history_path = f\"{PATH}/history/\"\n",
    "history = []\n",
    "for f in os.walk(history_path):\n",
    "    for file in f[2]:\n",
    "        data = torch.load(osp.join(history_path, file))\n",
    "        h = dict(epoch=data[\"epoch\"], train_loss=data[\"loss\"][\"loss\"], val_loss=data[\"eval_loss\"][\"loss\"]\n",
    "                )\n",
    "        for k, v in data[\"loss\"].items():\n",
    "            h[f\"train_{k}\"] = v\n",
    "        for k, v in data[\"eval_loss\"].items():\n",
    "            h[f\"val_{k}\"] = v\n",
    "        history.append(\n",
    "            h\n",
    "        )"
   ]
  },
  {
   "cell_type": "code",
   "execution_count": 3,
   "id": "2e1f095b",
   "metadata": {},
   "outputs": [
    {
     "data": {
      "text/html": [
       "<div>\n",
       "<style scoped>\n",
       "    .dataframe tbody tr th:only-of-type {\n",
       "        vertical-align: middle;\n",
       "    }\n",
       "\n",
       "    .dataframe tbody tr th {\n",
       "        vertical-align: top;\n",
       "    }\n",
       "\n",
       "    .dataframe thead th {\n",
       "        text-align: right;\n",
       "    }\n",
       "</style>\n",
       "<table border=\"1\" class=\"dataframe\">\n",
       "  <thead>\n",
       "    <tr style=\"text-align: right;\">\n",
       "      <th></th>\n",
       "      <th>train_loss</th>\n",
       "      <th>val_loss</th>\n",
       "      <th>train_top_1_acc</th>\n",
       "      <th>train_top_5_acc</th>\n",
       "      <th>train_top_10_acc</th>\n",
       "      <th>val_top_1_acc</th>\n",
       "      <th>val_top_5_acc</th>\n",
       "      <th>val_top_10_acc</th>\n",
       "    </tr>\n",
       "    <tr>\n",
       "      <th>epoch</th>\n",
       "      <th></th>\n",
       "      <th></th>\n",
       "      <th></th>\n",
       "      <th></th>\n",
       "      <th></th>\n",
       "      <th></th>\n",
       "      <th></th>\n",
       "      <th></th>\n",
       "    </tr>\n",
       "  </thead>\n",
       "  <tbody>\n",
       "    <tr>\n",
       "      <th>23</th>\n",
       "      <td>1.392070</td>\n",
       "      <td>4.522109</td>\n",
       "      <td>0.611264</td>\n",
       "      <td>0.879848</td>\n",
       "      <td>0.940991</td>\n",
       "      <td>0.216673</td>\n",
       "      <td>0.453521</td>\n",
       "      <td>0.580548</td>\n",
       "    </tr>\n",
       "    <tr>\n",
       "      <th>24</th>\n",
       "      <td>1.297419</td>\n",
       "      <td>4.603458</td>\n",
       "      <td>0.631527</td>\n",
       "      <td>0.895656</td>\n",
       "      <td>0.949939</td>\n",
       "      <td>0.208119</td>\n",
       "      <td>0.447191</td>\n",
       "      <td>0.573774</td>\n",
       "    </tr>\n",
       "    <tr>\n",
       "      <th>25</th>\n",
       "      <td>1.213996</td>\n",
       "      <td>4.806049</td>\n",
       "      <td>0.652000</td>\n",
       "      <td>0.907497</td>\n",
       "      <td>0.957835</td>\n",
       "      <td>0.207723</td>\n",
       "      <td>0.442445</td>\n",
       "      <td>0.563884</td>\n",
       "    </tr>\n",
       "    <tr>\n",
       "      <th>26</th>\n",
       "      <td>1.144975</td>\n",
       "      <td>4.831029</td>\n",
       "      <td>0.670418</td>\n",
       "      <td>0.916728</td>\n",
       "      <td>0.962921</td>\n",
       "      <td>0.212718</td>\n",
       "      <td>0.444373</td>\n",
       "      <td>0.565566</td>\n",
       "    </tr>\n",
       "    <tr>\n",
       "      <th>27</th>\n",
       "      <td>1.078215</td>\n",
       "      <td>4.985627</td>\n",
       "      <td>0.687206</td>\n",
       "      <td>0.926247</td>\n",
       "      <td>0.967980</td>\n",
       "      <td>0.209059</td>\n",
       "      <td>0.438884</td>\n",
       "      <td>0.564923</td>\n",
       "    </tr>\n",
       "  </tbody>\n",
       "</table>\n",
       "</div>"
      ],
      "text/plain": [
       "       train_loss  val_loss  train_top_1_acc  train_top_5_acc  \\\n",
       "epoch                                                           \n",
       "23       1.392070  4.522109         0.611264         0.879848   \n",
       "24       1.297419  4.603458         0.631527         0.895656   \n",
       "25       1.213996  4.806049         0.652000         0.907497   \n",
       "26       1.144975  4.831029         0.670418         0.916728   \n",
       "27       1.078215  4.985627         0.687206         0.926247   \n",
       "\n",
       "       train_top_10_acc  val_top_1_acc  val_top_5_acc  val_top_10_acc  \n",
       "epoch                                                                  \n",
       "23             0.940991       0.216673       0.453521        0.580548  \n",
       "24             0.949939       0.208119       0.447191        0.573774  \n",
       "25             0.957835       0.207723       0.442445        0.563884  \n",
       "26             0.962921       0.212718       0.444373        0.565566  \n",
       "27             0.967980       0.209059       0.438884        0.564923  "
      ]
     },
     "execution_count": 3,
     "metadata": {},
     "output_type": "execute_result"
    }
   ],
   "source": [
    "df = pd.DataFrame(history)\n",
    "df = df.sort_values(\"epoch\").set_index(\"epoch\")\n",
    "df.tail()"
   ]
  },
  {
   "cell_type": "code",
   "execution_count": 4,
   "id": "0a15fdec",
   "metadata": {},
   "outputs": [
    {
     "data": {
      "text/plain": [
       "<matplotlib.legend.Legend at 0x7fca322c79a0>"
      ]
     },
     "execution_count": 4,
     "metadata": {},
     "output_type": "execute_result"
    },
    {
     "data": {
      "image/png": "[encoded data removed]",
      "text/plain": [
       "<Figure size 432x288 with 1 Axes>"
      ]
     },
     "metadata": {
      "needs_background": "light"
     },
     "output_type": "display_data"
    }
   ],
   "source": [
    "df['train_loss'].plot(label=\"train\")\n",
    "df['val_loss'].plot(label=\"val\")\n",
    "plt.legend()"
   ]
  },
  {
   "cell_type": "code",
   "execution_count": 7,
   "id": "df81904d",
   "metadata": {},
   "outputs": [],
   "source": [
    "import torchvision.models as models\n",
    "device=torch.device(\"cuda\")\n",
    "model = models.mobilenet_v2(pretrained=False, num_classes=200).to(device)"
   ]
  },
  {
   "cell_type": "code",
   "execution_count": 16,
   "id": "232d0ae3",
   "metadata": {},
   "outputs": [
    {
     "data": {
      "text/plain": [
       "<All keys matched successfully>"
      ]
     },
     "execution_count": 16,
     "metadata": {},
     "output_type": "execute_result"
    }
   ],
   "source": [
    "model.load_state_dict(torch.load(f\"{PATH}/weights/ckpt_{df['val_loss'].argmin()}.pt\")[\"model_state_dict\"])"
   ]
  },
  {
   "cell_type": "code",
   "execution_count": 11,
   "id": "b666b1a8",
   "metadata": {},
   "outputs": [],
   "source": [
    "import pickle\n",
    "with open(\"dataset.pkl\", \"rb\") as f:\n",
    "    dataset = pickle.load(f)\n",
    "dataset[\"train\"] = dataset[\"train\"] / 255\n",
    "dataset[\"train\"] = dataset[\"train\"].permute(0,3,1,2)\n",
    "dataset[\"train\"].shape\n",
    "data_path = \"../../tiny-imagenet-200\"\n",
    "classes = pd.read_csv(f\"{data_path}/words.txt\", sep=\"\\t\", names=[\"id\", \"entity\"])\n",
    "id_to_label = {}\n",
    "for _, row in classes.iterrows():\n",
    "    id_to_label[row['id']] = row['entity']\n",
    "labels = np.array(dataset['labels'])\n",
    "label_to_idx = {}\n",
    "for i, label in enumerate(np.unique(labels)):\n",
    "    label_to_idx[label] = i\n",
    "for i in range(len(labels)):\n",
    "    labels[i] = label_to_idx[labels[i]]\n",
    "labels = labels.astype(int)\n",
    "labels = torch.from_numpy(labels)\n",
    "raw_dataset = []\n",
    "for i in range(len(labels)):\n",
    "    raw_dataset.append((dataset[\"train\"][i], labels[i]))"
   ]
  },
  {
   "cell_type": "code",
   "execution_count": 12,
   "id": "06109709",
   "metadata": {},
   "outputs": [],
   "source": [
    "def compute_accs(preds, labels):\n",
    "    k = 10\n",
    "    _, ind = torch.topk(preds, k)\n",
    "    \n",
    "    accs = {}\n",
    "    for _k in [1, 5, 10]:\n",
    "        acc = ind[:,:_k].eq(labels).any(1).sum() / len(labels)\n",
    "        accs[f\"top_{_k}_acc\"] = acc\n",
    "    return accs\n",
    "\n",
    "import os.path as osp\n",
    "from collections import defaultdict\n",
    "import numpy as np\n",
    "import torch\n",
    "from torch.utils.data import DataLoader\n",
    "from tqdm import tqdm\n",
    "from tqdm.notebook import tqdm as tqdm_nb\n",
    "def evaluate(model, val_dl: DataLoader, verbose=True, nb=False):\n",
    "    loss_fnc = torch.nn.CrossEntropyLoss()\n",
    "    model.eval()\n",
    "    _tqdm = tqdm_nb if nb else tqdm\n",
    "    if verbose:\n",
    "        pbar = _tqdm(enumerate(val_dl), total=len(val_dl), position=0, leave=True)\n",
    "        pbar.set_description(\"Evaluation Progress\")\n",
    "    with torch.no_grad():\n",
    "        batch_size = val_dl.batch_size\n",
    "        avg_loss = defaultdict(int)\n",
    "        num_train_imgs = len(val_dl.dataset)\n",
    "        c = 0\n",
    "        for batch_idx, data in enumerate(val_dl):\n",
    "            c += 1\n",
    "\n",
    "            imgs = data[0].to(device)\n",
    "            labels = data[1].to(device)\n",
    "            preds = model(imgs)\n",
    "#             preds = torch.nn.functional.softmax(preds, dim=1)\n",
    "\n",
    "            loss = {\n",
    "                \"loss\": loss_fnc(preds, labels),\n",
    "                # \"acc\": 0\n",
    "            }\n",
    "            for k, v in compute_accs(preds, labels.view(-1,1)).items():\n",
    "                loss[k] = v\n",
    "            for k, v in loss.items():\n",
    "                avg_loss[k] += v.item()\n",
    "            if verbose:\n",
    "                pbar.update()\n",
    "        for k in avg_loss.keys():\n",
    "            avg_loss[k] /= c\n",
    "    model.train()\n",
    "    if verbose:\n",
    "        pbar.close()\n",
    "    return avg_loss\n",
    "def train(\n",
    "    model,\n",
    "    optim: torch.optim.Optimizer,\n",
    "    epochs: int,\n",
    "    train_dl: DataLoader,\n",
    "    val_dl: DataLoader,\n",
    "    start_epoch=0,\n",
    "    save_freq=10,\n",
    "    save_best=True,\n",
    "    save_dir=\"./\",\n",
    "    prev_best_loss=np.inf,\n",
    "    verbose=True,\n",
    "    nb=False,\n",
    "    train_cb=None,\n",
    "):\n",
    "    \"\"\"\n",
    "    train the vae model\n",
    "    \"\"\"\n",
    "    loss_fnc = torch.nn.CrossEntropyLoss()\n",
    "    _tqdm = tqdm_nb if nb else tqdm\n",
    "    model.train()\n",
    "    optimizer_idx = 0\n",
    "    num_train_imgs = len(train_dl.dataset)\n",
    "    batch_size = train_dl.batch_size\n",
    "    if verbose:\n",
    "        epoch_pbar = _tqdm(range(epochs), position=0, leave=True)\n",
    "        epoch_pbar.set_description(\"Progress\")\n",
    "        pbar = _tqdm(enumerate(train_dl), total=len(train_dl), position=0, leave=True)\n",
    "        pbar.set_description(\"Current Epoch Progress\")\n",
    "        epoch_pbar.update(start_epoch)\n",
    "    for epoch in range(start_epoch, start_epoch + epochs):\n",
    "        avg_loss = defaultdict(int)\n",
    "        c = 0\n",
    "        if verbose:\n",
    "            epoch_pbar.update()\n",
    "            pbar.reset()\n",
    "        for batch_idx, data in enumerate(train_dl):\n",
    "\n",
    "            c += 1\n",
    "            \n",
    "            imgs = data[0].to(device)\n",
    "            labels = data[1].to(device)\n",
    "            # imgs (B, C=1, W, H)\n",
    "            optim.zero_grad()\n",
    "            preds = model(imgs)\n",
    "#             preds = torch.nn.functional.softmax(preds, dim=1)\n",
    "            loss = {\n",
    "                \"loss\": loss_fnc(preds, labels),\n",
    "                # \"acc\": \n",
    "            }\n",
    "            with torch.no_grad():\n",
    "                for k, v in compute_accs(preds, labels.view(-1,1)).items():\n",
    "                    loss[k] = v\n",
    "                for k, v in loss.items():\n",
    "                    avg_loss[k] += v.item()\n",
    "            optimizer_idx += 1\n",
    "            loss[\"loss\"].backward()\n",
    "            optim.step()\n",
    "            if verbose:\n",
    "                pbar.update()\n",
    "        for k in avg_loss.keys():\n",
    "            avg_loss[k] /= c\n",
    "        eval_loss = evaluate(model, val_dl, nb=nb, verbose=False)\n",
    "        if train_cb:\n",
    "            train_cb(epoch=epoch, loss=avg_loss, eval_loss=eval_loss, model=model)\n",
    "        save = False\n",
    "        if eval_loss[\"loss\"] < prev_best_loss:\n",
    "            prev_best_loss = eval_loss[\"loss\"]\n",
    "            if save_best:\n",
    "                save = True\n",
    "        if epoch % save_freq == 0 or epoch == epochs - 1:\n",
    "            save = True\n",
    "        torch.save(\n",
    "            dict(\n",
    "                epoch=epoch,\n",
    "                loss=avg_loss,\n",
    "                eval_loss=eval_loss,\n",
    "                prev_best_loss=prev_best_loss,\n",
    "            ),\n",
    "            osp.join(save_dir, f\"history/ckpt_{epoch}.pt\"),\n",
    "        )\n",
    "        if save:\n",
    "            torch.save(\n",
    "                dict(\n",
    "                    model_state_dict=model.state_dict(),\n",
    "                    optim_State_dict=optim.state_dict(),\n",
    "                    epoch=epoch,\n",
    "                    loss=avg_loss,\n",
    "                    eval_loss=eval_loss,\n",
    "                    prev_best_loss=prev_best_loss,\n",
    "                ),\n",
    "                osp.join(save_dir, f\"weights/ckpt_{epoch}.pt\"),\n",
    "            )"
   ]
  },
  {
   "cell_type": "code",
   "execution_count": 13,
   "id": "5ade4572",
   "metadata": {},
   "outputs": [],
   "source": [
    "from sklearn.utils import shuffle\n",
    "shuffled_raw_dataset = shuffle(raw_dataset, random_state=3407)\n",
    "train_raw_dataset = shuffled_raw_dataset[:60000]\n",
    "val_raw_dataset = shuffled_raw_dataset[60000:60000+20000]\n",
    "test_raw_dataset = shuffled_raw_dataset[60000+20000:]"
   ]
  },
  {
   "cell_type": "code",
   "execution_count": 15,
   "id": "61658e93",
   "metadata": {},
   "outputs": [
    {
     "name": "stderr",
     "output_type": "stream",
     "text": [
      "Evaluation Progress: 100%|██████████| 79/79 [00:02<00:00, 28.69it/s]\n"
     ]
    },
    {
     "data": {
      "text/plain": [
       "defaultdict(int,\n",
       "            {'loss': 3.5916076974023747,\n",
       "             'top_1_acc': 0.21751384493670886,\n",
       "             'top_5_acc': 0.4686511075949367,\n",
       "             'top_10_acc': 0.6010185917721519})"
      ]
     },
     "execution_count": 15,
     "metadata": {},
     "output_type": "execute_result"
    }
   ],
   "source": [
    "test_dl = torch.utils.data.DataLoader(test_raw_dataset, shuffle=False, batch_size=256)\n",
    "with torch.no_grad():\n",
    "    model.eval()\n",
    "    results = evaluate(model=model,val_dl=test_dl)\n",
    "results"
   ]
  },
  {
   "cell_type": "code",
   "execution_count": 28,
   "id": "5dbcf582",
   "metadata": {},
   "outputs": [],
   "source": [
    "import itertools\n",
    "num_weights = 0\n",
    "for p in model.named_parameters():\n",
    "    x = 1\n",
    "    for s in p[1].shape:\n",
    "        x *= s\n",
    "    num_weights += x"
   ]
  },
  {
   "cell_type": "code",
   "execution_count": 29,
   "id": "34029f92",
   "metadata": {},
   "outputs": [
    {
     "data": {
      "text/plain": [
       "2480072"
      ]
     },
     "execution_count": 29,
     "metadata": {},
     "output_type": "execute_result"
    }
   ],
   "source": [
    "num_weights"
   ]
  },
  {
   "cell_type": "code",
   "execution_count": 30,
   "id": "db434bd1",
   "metadata": {},
   "outputs": [
    {
     "data": {
      "text/plain": [
       "defaultdict(int,\n",
       "            {'loss': 3.5916076974023747,\n",
       "             'top_1_acc': 0.21751384493670886,\n",
       "             'top_5_acc': 0.4686511075949367,\n",
       "             'top_10_acc': 0.6010185917721519})"
      ]
     },
     "execution_count": 30,
     "metadata": {},
     "output_type": "execute_result"
    }
   ],
   "source": [
    "results"
   ]
  },
  {
   "cell_type": "code",
   "execution_count": 31,
   "id": "ffe7a8dd",
   "metadata": {},
   "outputs": [
    {
     "data": {
      "text/plain": [
       "11"
      ]
     },
     "execution_count": 31,
     "metadata": {},
     "output_type": "execute_result"
    }
   ],
   "source": [
    "df['val_loss'].argmin()"
   ]
  },
  {
   "cell_type": "code",
   "execution_count": 32,
   "id": "39916a29",
   "metadata": {},
   "outputs": [],
   "source": [
    "!git add ."
   ]
  },
  {
   "cell_type": "code",
   "execution_count": null,
   "id": "2e614a90",
   "metadata": {},
   "outputs": [],
   "source": []
  }
 ],
 "metadata": {
  "kernelspec": {
   "display_name": "Python 3 (ipykernel)",
   "language": "python",
   "name": "python3"
  },
  "language_info": {
   "codemirror_mode": {
    "name": "ipython",
    "version": 3
   },
   "file_extension": ".py",
   "mimetype": "text/x-python",
   "name": "python",
   "nbconvert_exporter": "python",
   "pygments_lexer": "ipython3",
   "version": "3.9.5"
  }
 },
 "nbformat": 4,
 "nbformat_minor": 5
}
