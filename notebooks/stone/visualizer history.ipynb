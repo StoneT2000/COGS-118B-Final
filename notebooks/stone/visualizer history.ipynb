{
 "cells": [
  {
   "cell_type": "code",
   "execution_count": 10,
   "id": "a9aabb0c",
   "metadata": {},
   "outputs": [],
   "source": [
    "import matplotlib.pyplot as plt\n",
    "import torch\n",
    "import numpy as np\n",
    "import os\n",
    "import os.path as osp\n",
    "import pandas as pd"
   ]
  },
  {
   "cell_type": "code",
   "execution_count": 47,
   "id": "02a5969e",
   "metadata": {},
   "outputs": [],
   "source": [
    "history_path = \"mobilenet_ckpts/history/\"\n",
    "history = []\n",
    "for f in os.walk(history_path):\n",
    "    for file in f[2]:\n",
    "        data = torch.load(osp.join(\"mobilenet_ckpts/history/\", file))\n",
    "        h = dict(epoch=data[\"epoch\"], train_loss=data[\"loss\"][\"loss\"], val_loss=data[\"eval_loss\"][\"loss\"]\n",
    "                )\n",
    "        for k, v in data[\"loss\"].items():\n",
    "            h[f\"train_{k}\"] = v\n",
    "        for k, v in data[\"eval_loss\"].items():\n",
    "            h[f\"val_{k}\"] = v\n",
    "        history.append(\n",
    "            h\n",
    "        )"
   ]
  },
  {
   "cell_type": "code",
   "execution_count": 48,
   "id": "c4ddd476",
   "metadata": {},
   "outputs": [
    {
     "data": {
      "text/html": [
       "<div>\n",
       "<style scoped>\n",
       "    .dataframe tbody tr th:only-of-type {\n",
       "        vertical-align: middle;\n",
       "    }\n",
       "\n",
       "    .dataframe tbody tr th {\n",
       "        vertical-align: top;\n",
       "    }\n",
       "\n",
       "    .dataframe thead th {\n",
       "        text-align: right;\n",
       "    }\n",
       "</style>\n",
       "<table border=\"1\" class=\"dataframe\">\n",
       "  <thead>\n",
       "    <tr style=\"text-align: right;\">\n",
       "      <th></th>\n",
       "      <th>train_loss</th>\n",
       "      <th>val_loss</th>\n",
       "      <th>train_top_1_acc</th>\n",
       "      <th>train_top_5_acc</th>\n",
       "      <th>train_top_10_acc</th>\n",
       "      <th>val_top_1_acc</th>\n",
       "      <th>val_top_5_acc</th>\n",
       "      <th>val_top_10_acc</th>\n",
       "    </tr>\n",
       "    <tr>\n",
       "      <th>epoch</th>\n",
       "      <th></th>\n",
       "      <th></th>\n",
       "      <th></th>\n",
       "      <th></th>\n",
       "      <th></th>\n",
       "      <th></th>\n",
       "      <th></th>\n",
       "      <th></th>\n",
       "    </tr>\n",
       "  </thead>\n",
       "  <tbody>\n",
       "    <tr>\n",
       "      <th>0</th>\n",
       "      <td>5.026392</td>\n",
       "      <td>4.671656</td>\n",
       "      <td>0.026058</td>\n",
       "      <td>0.096448</td>\n",
       "      <td>0.165392</td>\n",
       "      <td>0.049125</td>\n",
       "      <td>0.174202</td>\n",
       "      <td>0.275560</td>\n",
       "    </tr>\n",
       "    <tr>\n",
       "      <th>1</th>\n",
       "      <td>4.534294</td>\n",
       "      <td>4.339657</td>\n",
       "      <td>0.064495</td>\n",
       "      <td>0.207774</td>\n",
       "      <td>0.318307</td>\n",
       "      <td>0.079294</td>\n",
       "      <td>0.248992</td>\n",
       "      <td>0.374535</td>\n",
       "    </tr>\n",
       "    <tr>\n",
       "      <th>2</th>\n",
       "      <td>4.223221</td>\n",
       "      <td>4.056573</td>\n",
       "      <td>0.099767</td>\n",
       "      <td>0.282247</td>\n",
       "      <td>0.408278</td>\n",
       "      <td>0.115919</td>\n",
       "      <td>0.320739</td>\n",
       "      <td>0.453014</td>\n",
       "    </tr>\n",
       "    <tr>\n",
       "      <th>3</th>\n",
       "      <td>3.953065</td>\n",
       "      <td>3.802498</td>\n",
       "      <td>0.134297</td>\n",
       "      <td>0.351058</td>\n",
       "      <td>0.483876</td>\n",
       "      <td>0.156073</td>\n",
       "      <td>0.388270</td>\n",
       "      <td>0.524618</td>\n",
       "    </tr>\n",
       "    <tr>\n",
       "      <th>4</th>\n",
       "      <td>3.729498</td>\n",
       "      <td>3.669123</td>\n",
       "      <td>0.166234</td>\n",
       "      <td>0.403707</td>\n",
       "      <td>0.538115</td>\n",
       "      <td>0.172473</td>\n",
       "      <td>0.416539</td>\n",
       "      <td>0.554017</td>\n",
       "    </tr>\n",
       "  </tbody>\n",
       "</table>\n",
       "</div>"
      ],
      "text/plain": [
       "       train_loss  val_loss  train_top_1_acc  train_top_5_acc  \\\n",
       "epoch                                                           \n",
       "0        5.026392  4.671656         0.026058         0.096448   \n",
       "1        4.534294  4.339657         0.064495         0.207774   \n",
       "2        4.223221  4.056573         0.099767         0.282247   \n",
       "3        3.953065  3.802498         0.134297         0.351058   \n",
       "4        3.729498  3.669123         0.166234         0.403707   \n",
       "\n",
       "       train_top_10_acc  val_top_1_acc  val_top_5_acc  val_top_10_acc  \n",
       "epoch                                                                  \n",
       "0              0.165392       0.049125       0.174202        0.275560  \n",
       "1              0.318307       0.079294       0.248992        0.374535  \n",
       "2              0.408278       0.115919       0.320739        0.453014  \n",
       "3              0.483876       0.156073       0.388270        0.524618  \n",
       "4              0.538115       0.172473       0.416539        0.554017  "
      ]
     },
     "execution_count": 48,
     "metadata": {},
     "output_type": "execute_result"
    }
   ],
   "source": [
    "df = pd.DataFrame(history)\n",
    "df = df.sort_values(\"epoch\").set_index(\"epoch\")\n",
    "df.head()"
   ]
  },
  {
   "cell_type": "code",
   "execution_count": 49,
   "id": "830f1691",
   "metadata": {},
   "outputs": [
    {
     "data": {
      "text/plain": [
       "<matplotlib.legend.Legend at 0x7fc7dc630100>"
      ]
     },
     "execution_count": 49,
     "metadata": {},
     "output_type": "execute_result"
    },
    {
     "data": {
      "image/png": "[encoded data removed]",
      "text/plain": [
       "<Figure size 432x288 with 1 Axes>"
      ]
     },
     "metadata": {
      "needs_background": "light"
     },
     "output_type": "display_data"
    }
   ],
   "source": [
    "df['train_loss'].plot(label=\"train\")\n",
    "df['val_loss'].plot(label=\"val\")\n",
    "plt.legend()"
   ]
  },
  {
   "cell_type": "code",
   "execution_count": null,
   "id": "9bf72160",
   "metadata": {},
   "outputs": [],
   "source": []
  }
 ],
 "metadata": {
  "kernelspec": {
   "display_name": "Python 3 (ipykernel)",
   "language": "python",
   "name": "python3"
  },
  "language_info": {
   "codemirror_mode": {
    "name": "ipython",
    "version": 3
   },
   "file_extension": ".py",
   "mimetype": "text/x-python",
   "name": "python",
   "nbconvert_exporter": "python",
   "pygments_lexer": "ipython3",
   "version": "3.9.5"
  }
 },
 "nbformat": 4,
 "nbformat_minor": 5
}
