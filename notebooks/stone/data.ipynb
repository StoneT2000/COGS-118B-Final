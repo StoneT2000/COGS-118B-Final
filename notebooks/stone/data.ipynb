{
 "cells": [
  {
   "cell_type": "code",
   "execution_count": 1,
   "id": "a2b4d26e-e3b4-47d1-b968-14a03a02d251",
   "metadata": {},
   "outputs": [],
   "source": [
    "import pandas as pd\n",
    "import torch\n",
    "import numpy as np\n",
    "import os\n",
    "import cv2\n",
    "import matplotlib.pyplot as plt"
   ]
  },
  {
   "cell_type": "code",
   "execution_count": 2,
   "id": "9a06bcea-b244-45a9-afc9-570af0ee74f8",
   "metadata": {},
   "outputs": [],
   "source": [
    "data_path = \"../../data/tiny-imagenet-200\""
   ]
  },
  {
   "cell_type": "code",
   "execution_count": 3,
   "id": "789e6365-517e-4698-8adf-88720cc33ac5",
   "metadata": {},
   "outputs": [],
   "source": [
    "classes = pd.read_csv(f\"{data_path}/words.txt\", sep=\"\\t\", names=[\"id\", \"entity\"])"
   ]
  },
  {
   "cell_type": "code",
   "execution_count": 4,
   "id": "40acd805-c08e-4737-b927-beb65303d5fa",
   "metadata": {},
   "outputs": [],
   "source": [
    "train_images = []\n",
    "train_label_ids = []"
   ]
  },
  {
   "cell_type": "code",
   "execution_count": 5,
   "id": "94581946-9d16-416d-a6c4-d431aa1f4445",
   "metadata": {},
   "outputs": [],
   "source": [
    "for f in os.walk(f\"{data_path}/train/\"):\n",
    "    folders = sorted(f[1])\n",
    "    for class_id in folders:\n",
    "        # print(classes[classes['id'] == class_id]['entity'].values)\n",
    "        # print(class_id)\n",
    "        for f2 in os.walk(f\"{data_path}/train/{class_id}/images\"):\n",
    "            image_paths = sorted(f2[2])\n",
    "            for img_path in image_paths:\n",
    "                img = cv2.imread(f\"{data_path}/train/{class_id}/images/{img_path}\")\n",
    "                img = cv2.cvtColor(img, cv2.COLOR_BGR2RGB)\n",
    "                train_images.append(img)\n",
    "                train_label_ids.append(class_id)\n",
    "    break"
   ]
  },
  {
   "cell_type": "code",
   "execution_count": 6,
   "id": "6e4f372e-40d7-4481-b176-bc0abb8edb8c",
   "metadata": {},
   "outputs": [
    {
     "data": {
      "text/plain": [
       "100000"
      ]
     },
     "execution_count": 6,
     "metadata": {},
     "output_type": "execute_result"
    }
   ],
   "source": [
    "len(train_images)"
   ]
  },
  {
   "cell_type": "code",
   "execution_count": 7,
   "id": "a14dec18-d6c3-4828-a6ef-2eec50277201",
   "metadata": {},
   "outputs": [],
   "source": [
    "train_images = np.stack(train_images)\n",
    "# for torch, should be about 4-5 gigabytes\n",
    "train_images = torch.from_numpy(train_images).float()"
   ]
  },
  {
   "cell_type": "code",
   "execution_count": 15,
   "id": "064d279f-085b-49a1-999d-77c0dac92c4b",
   "metadata": {},
   "outputs": [],
   "source": [
    "import pickle"
   ]
  },
  {
   "cell_type": "code",
   "execution_count": 20,
   "id": "d7bc931a-88dd-4390-9370-0a830fd7f25a",
   "metadata": {},
   "outputs": [],
   "source": [
    "with open(\"dataset.pkl\", \"wb\") as f:\n",
    "    pickle.dump({\n",
    "        \"train\": train_images,\n",
    "        \"labels\": train_label_ids\n",
    "    }, f)"
   ]
  },
  {
   "cell_type": "code",
   "execution_count": 9,
   "id": "9669f1af-01bc-4419-9cc7-1125e9d4d75c",
   "metadata": {},
   "outputs": [
    {
     "data": {
      "text/plain": [
       "<matplotlib.image.AxesImage at 0x7f872897c040>"
      ]
     },
     "execution_count": 9,
     "metadata": {},
     "output_type": "execute_result"
    },
    {
     "data": {
      "image/png": "[encoded data removed]",
      "text/plain": [
       "<Figure size 432x288 with 1 Axes>"
      ]
     },
     "metadata": {
      "needs_background": "light"
     },
     "output_type": "display_data"
    }
   ],
   "source": [
    "plt.imshow(train_images[0]/255)"
   ]
  },
  {
   "cell_type": "code",
   "execution_count": 81,
   "id": "71467cfe-ba1f-44d1-b48e-dcb7a0c54b75",
   "metadata": {},
   "outputs": [],
   "source": [
    "def get_class_name(id):\n",
    "    return df[df['id'] == id]"
   ]
  },
  {
   "cell_type": "code",
   "execution_count": 91,
   "id": "9a40449a-eeb6-49c8-bfe4-8fb37d836971",
   "metadata": {},
   "outputs": [
    {
     "data": {
      "text/html": [
       "<div>\n",
       "<style scoped>\n",
       "    .dataframe tbody tr th:only-of-type {\n",
       "        vertical-align: middle;\n",
       "    }\n",
       "\n",
       "    .dataframe tbody tr th {\n",
       "        vertical-align: top;\n",
       "    }\n",
       "\n",
       "    .dataframe thead th {\n",
       "        text-align: right;\n",
       "    }\n",
       "</style>\n",
       "<table border=\"1\" class=\"dataframe\">\n",
       "  <thead>\n",
       "    <tr style=\"text-align: right;\">\n",
       "      <th></th>\n",
       "      <th>id</th>\n",
       "      <th>entity</th>\n",
       "    </tr>\n",
       "  </thead>\n",
       "  <tbody>\n",
       "    <tr>\n",
       "      <th>50603</th>\n",
       "      <td>n09428293</td>\n",
       "      <td>seashore, coast, seacoast, sea-coast</td>\n",
       "    </tr>\n",
       "  </tbody>\n",
       "</table>\n",
       "</div>"
      ],
      "text/plain": [
       "              id                                entity\n",
       "50603  n09428293  seashore, coast, seacoast, sea-coast"
      ]
     },
     "execution_count": 91,
     "metadata": {},
     "output_type": "execute_result"
    }
   ],
   "source": [
    "get_class_name(train_label_ids[-501])"
   ]
  },
  {
   "cell_type": "code",
   "execution_count": null,
   "id": "0a11699e-b615-478a-8c01-245c3b8846f1",
   "metadata": {},
   "outputs": [],
   "source": []
  }
 ],
 "metadata": {
  "kernelspec": {
   "display_name": "Python 3 (ipykernel)",
   "language": "python",
   "name": "python3"
  },
  "language_info": {
   "codemirror_mode": {
    "name": "ipython",
    "version": 3
   },
   "file_extension": ".py",
   "mimetype": "text/x-python",
   "name": "python",
   "nbconvert_exporter": "python",
   "pygments_lexer": "ipython3",
   "version": "3.8.12"
  }
 },
 "nbformat": 4,
 "nbformat_minor": 5
}
