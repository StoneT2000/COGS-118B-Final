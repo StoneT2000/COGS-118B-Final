{
 "cells": [
  {
   "cell_type": "code",
   "execution_count": 1,
   "id": "e4baa0cd-01bb-4961-8778-f05c8099a240",
   "metadata": {},
   "outputs": [],
   "source": [
    "import torchvision.models as models\n",
    "import torch\n",
    "import numpy as np\n",
    "import pandas as pd\n",
    "device=torch.device(\"cuda\")"
   ]
  },
  {
   "cell_type": "code",
   "execution_count": 2,
   "id": "77877024-1c87-44f7-ac17-5396b1adaab1",
   "metadata": {},
   "outputs": [],
   "source": [
    "import pickle\n",
    "with open(\"dataset.pkl\", \"rb\") as f:\n",
    "    dataset = pickle.load(f)\n",
    "dataset[\"train\"] = dataset[\"train\"] / 255\n",
    "dataset[\"train\"] = dataset[\"train\"].permute(0,3,1,2)\n",
    "dataset[\"train\"].shape\n",
    "data_path = \"../../tiny-imagenet-200\"\n",
    "classes = pd.read_csv(f\"{data_path}/words.txt\", sep=\"\\t\", names=[\"id\", \"entity\"])\n",
    "id_to_label = {}\n",
    "for _, row in classes.iterrows():\n",
    "    id_to_label[row['id']] = row['entity']\n",
    "labels = np.array(dataset['labels'])\n",
    "label_to_idx = {}\n",
    "for i, label in enumerate(np.unique(labels)):\n",
    "    label_to_idx[label] = i\n",
    "for i in range(len(labels)):\n",
    "    labels[i] = label_to_idx[labels[i]]\n",
    "labels = labels.astype(int)\n",
    "labels = torch.from_numpy(labels)\n",
    "raw_dataset = []\n",
    "for i in range(len(labels)):\n",
    "    raw_dataset.append((dataset[\"train\"][i], labels[i]))"
   ]
  },
  {
   "cell_type": "code",
   "execution_count": 3,
   "id": "ac2a879d-b97e-4cec-b595-9ce00471aaec",
   "metadata": {},
   "outputs": [],
   "source": [
    "def compute_accs(preds, labels):\n",
    "    k = 10\n",
    "    _, ind = torch.topk(preds, k)\n",
    "    \n",
    "    accs = {}\n",
    "    for _k in [1, 5, 10]:\n",
    "        acc = ind[:,:_k].eq(labels).any(1).sum() / len(labels)\n",
    "        accs[f\"top_{_k}_acc\"] = acc\n",
    "    return accs"
   ]
  },
  {
   "cell_type": "code",
   "execution_count": 5,
   "id": "8d43ec6c-2e38-4484-bd05-8c5ec62ed6f9",
   "metadata": {},
   "outputs": [],
   "source": [
    "import os.path as osp\n",
    "from collections import defaultdict\n",
    "import numpy as np\n",
    "import torch\n",
    "from torch.utils.data import DataLoader\n",
    "from tqdm import tqdm\n",
    "from tqdm.notebook import tqdm as tqdm_nb\n",
    "def evaluate(model, val_dl: DataLoader, verbose=True, nb=False):\n",
    "    loss_fnc = torch.nn.CrossEntropyLoss()\n",
    "    model.eval()\n",
    "    _tqdm = tqdm_nb if nb else tqdm\n",
    "    if verbose:\n",
    "        pbar = _tqdm(enumerate(val_dl), total=len(val_dl), position=0, leave=True)\n",
    "        pbar.set_description(\"Evaluation Progress\")\n",
    "    with torch.no_grad():\n",
    "        batch_size = val_dl.batch_size\n",
    "        avg_loss = defaultdict(int)\n",
    "        num_train_imgs = len(val_dl.dataset)\n",
    "        c = 0\n",
    "        for batch_idx, data in enumerate(val_dl):\n",
    "            c += 1\n",
    "\n",
    "            imgs = data[0].to(device)\n",
    "            labels = data[1].to(device)\n",
    "            preds = model(imgs)\n",
    "#             preds = torch.nn.functional.softmax(preds, dim=1)\n",
    "\n",
    "            loss = {\n",
    "                \"loss\": loss_fnc(preds, labels),\n",
    "                # \"acc\": 0\n",
    "            }\n",
    "            for k, v in compute_accs(preds, labels.view(-1,1)).items():\n",
    "                loss[k] = v\n",
    "            for k, v in loss.items():\n",
    "                avg_loss[k] += v.item()\n",
    "            if verbose:\n",
    "                pbar.update()\n",
    "        for k in avg_loss.keys():\n",
    "            avg_loss[k] /= c\n",
    "    model.train()\n",
    "    if verbose:\n",
    "        pbar.close()\n",
    "    return avg_loss\n",
    "def train(\n",
    "    model,\n",
    "    optim: torch.optim.Optimizer,\n",
    "    epochs: int,\n",
    "    train_dl: DataLoader,\n",
    "    val_dl: DataLoader,\n",
    "    start_epoch=0,\n",
    "    save_freq=10,\n",
    "    save_best=True,\n",
    "    save_dir=\"./\",\n",
    "    prev_best_loss=np.inf,\n",
    "    verbose=True,\n",
    "    nb=False,\n",
    "    train_cb=None,\n",
    "):\n",
    "    \"\"\"\n",
    "    train the vae model\n",
    "    \"\"\"\n",
    "    loss_fnc = torch.nn.CrossEntropyLoss()\n",
    "    _tqdm = tqdm_nb if nb else tqdm\n",
    "    model.train()\n",
    "    optimizer_idx = 0\n",
    "    num_train_imgs = len(train_dl.dataset)\n",
    "    batch_size = train_dl.batch_size\n",
    "    if verbose:\n",
    "        epoch_pbar = _tqdm(range(epochs), position=0, leave=True)\n",
    "        epoch_pbar.set_description(\"Progress\")\n",
    "        pbar = _tqdm(enumerate(train_dl), total=len(train_dl), position=0, leave=True)\n",
    "        pbar.set_description(\"Current Epoch Progress\")\n",
    "        epoch_pbar.update(start_epoch)\n",
    "    for epoch in range(start_epoch, start_epoch + epochs):\n",
    "        avg_loss = defaultdict(int)\n",
    "        c = 0\n",
    "        if verbose:\n",
    "            epoch_pbar.update()\n",
    "            pbar.reset()\n",
    "        for batch_idx, data in enumerate(train_dl):\n",
    "\n",
    "            c += 1\n",
    "            \n",
    "            imgs = data[0].to(device)\n",
    "            labels = data[1].to(device)\n",
    "            # imgs (B, C=1, W, H)\n",
    "            optim.zero_grad()\n",
    "            preds = model(imgs)\n",
    "#             preds = torch.nn.functional.softmax(preds, dim=1)\n",
    "            loss = {\n",
    "                \"loss\": loss_fnc(preds, labels),\n",
    "                # \"acc\": \n",
    "            }\n",
    "            with torch.no_grad():\n",
    "                for k, v in compute_accs(preds, labels.view(-1,1)).items():\n",
    "                    loss[k] = v\n",
    "                for k, v in loss.items():\n",
    "                    avg_loss[k] += v.item()\n",
    "            optimizer_idx += 1\n",
    "            loss[\"loss\"].backward()\n",
    "            optim.step()\n",
    "            if verbose:\n",
    "                pbar.update()\n",
    "        for k in avg_loss.keys():\n",
    "            avg_loss[k] /= c\n",
    "        eval_loss = evaluate(model, val_dl, nb=nb, verbose=False)\n",
    "        if train_cb:\n",
    "            train_cb(epoch=epoch, loss=avg_loss, eval_loss=eval_loss, model=model)\n",
    "        save = False\n",
    "        if eval_loss[\"loss\"] < prev_best_loss:\n",
    "            prev_best_loss = eval_loss[\"loss\"]\n",
    "            if save_best:\n",
    "                save = True\n",
    "        if epoch % save_freq == 0 or epoch == epochs - 1:\n",
    "            save = True\n",
    "        torch.save(\n",
    "            dict(\n",
    "                epoch=epoch,\n",
    "                loss=avg_loss,\n",
    "                eval_loss=eval_loss,\n",
    "                prev_best_loss=prev_best_loss,\n",
    "            ),\n",
    "            osp.join(save_dir, f\"history/ckpt_{epoch}.pt\"),\n",
    "        )\n",
    "        if save:\n",
    "            torch.save(\n",
    "                dict(\n",
    "                    model_state_dict=model.state_dict(),\n",
    "                    optim_State_dict=optim.state_dict(),\n",
    "                    epoch=epoch,\n",
    "                    loss=avg_loss,\n",
    "                    eval_loss=eval_loss,\n",
    "                    prev_best_loss=prev_best_loss,\n",
    "                ),\n",
    "                osp.join(save_dir, f\"weights/ckpt_{epoch}.pt\"),\n",
    "            )"
   ]
  },
  {
   "cell_type": "code",
   "execution_count": 6,
   "id": "b9c12240-e1d1-4506-86ce-99d4c91a2510",
   "metadata": {},
   "outputs": [],
   "source": [
    "from sklearn.utils import shuffle\n",
    "shuffled_raw_dataset = shuffle(raw_dataset, random_state=3407)\n",
    "train_raw_dataset = shuffled_raw_dataset[:60000]\n",
    "val_raw_dataset = shuffled_raw_dataset[60000:60000+20000]\n",
    "test_raw_dataset = shuffled_raw_dataset[60000+20000:]"
   ]
  },
  {
   "cell_type": "code",
   "execution_count": 7,
   "id": "b61b9f69",
   "metadata": {},
   "outputs": [
    {
     "name": "stdout",
     "output_type": "stream",
     "text": [
      "mkdir: cannot create directory ‘mobilenet_ckpts’: File exists\r\n"
     ]
    }
   ],
   "source": [
    "# CHANGE THIS\n",
    "!mkdir mobilenet_ckpts\n",
    "!mkdir mobilenet_ckpts/history\n",
    "!mkdir mobilenet_ckpts/weights"
   ]
  },
  {
   "cell_type": "code",
   "execution_count": 8,
   "id": "8531c09c-0fa0-4dec-8b8f-e51e4d20f121",
   "metadata": {},
   "outputs": [],
   "source": [
    "torch.manual_seed(340)\n",
    "batch_size=256\n",
    "train_dl = torch.utils.data.DataLoader(train_raw_dataset, shuffle=True, batch_size=batch_size)\n",
    "val_dl = torch.utils.data.DataLoader(val_raw_dataset, shuffle=True, batch_size=batch_size)\n",
    "# CHOOSE YOUR MODEL AND SAVE DIRECTORY\n",
    "model = models.mobilenet_v2(pretrained=False, num_classes=200).to(device)\n",
    "save_dir = \"mobilenet_ckpts\"\n",
    "optim = torch.optim.Adam(model.parameters(), lr=1e-3)"
   ]
  },
  {
   "cell_type": "code",
   "execution_count": null,
   "id": "382c3958-1ce5-4e3c-9ed0-1117bcb70d6c",
   "metadata": {
    "scrolled": true
   },
   "outputs": [
    {
     "name": "stderr",
     "output_type": "stream",
     "text": [
      "Current Epoch Progress: 100%|█████████▉| 234/235 [00:15<00:00, 14.22it/s]"
     ]
    },
    {
     "name": "stdout",
     "output_type": "stream",
     "text": [
      "Epoch=0, loss=defaultdict(<class 'int'>, {'loss': 5.026391631998914, 'top_1_acc': 0.0260582890123763, 'top_5_acc': 0.09644835993964622, 'top_10_acc': 0.16539228723404256}), eval_loss=defaultdict(<class 'int'>, {'loss': 4.67165629001374, 'top_1_acc': 0.0491245567402307, 'top_5_acc': 0.17420212765957446, 'top_10_acc': 0.2755596188788718})\n"
     ]
    },
    {
     "name": "stderr",
     "output_type": "stream",
     "text": [
      "Current Epoch Progress:   0%|          | 0/235 [00:00<?, ?it/s]          "
     ]
    },
    {
     "name": "stdout",
     "output_type": "stream",
     "text": [
      "Epoch=1, loss=defaultdict(<class 'int'>, {'loss': 4.534293988410463, 'top_1_acc': 0.06449468085106383, 'top_5_acc': 0.20777371456014349, 'top_10_acc': 0.31830673763092526}), eval_loss=defaultdict(<class 'int'>, {'loss': 4.339657172750919, 'top_1_acc': 0.07929410461257112, 'top_5_acc': 0.2489915780564572, 'top_10_acc': 0.3745345744680851})\n"
     ]
    },
    {
     "name": "stderr",
     "output_type": "stream",
     "text": [
      "Current Epoch Progress:   0%|          | 0/235 [00:00<?, ?it/s]          "
     ]
    },
    {
     "name": "stdout",
     "output_type": "stream",
     "text": [
      "Epoch=2, loss=defaultdict(<class 'int'>, {'loss': 4.223220884039047, 'top_1_acc': 0.09976728723404256, 'top_5_acc': 0.2822473404255319, 'top_10_acc': 0.4082779255319149}), eval_loss=defaultdict(<class 'int'>, {'loss': 4.056573319942393, 'top_1_acc': 0.11591866136865413, 'top_5_acc': 0.32073914015546756, 'top_10_acc': 0.4530141844394359})\n"
     ]
    },
    {
     "name": "stderr",
     "output_type": "stream",
     "text": [
      "Current Epoch Progress: 100%|█████████▉| 234/235 [00:15<00:00, 14.72it/s]"
     ]
    },
    {
     "name": "stdout",
     "output_type": "stream",
     "text": [
      "Epoch=3, loss=defaultdict(<class 'int'>, {'loss': 3.9530645634265658, 'top_1_acc': 0.1342974290885824, 'top_5_acc': 0.3510582890916378, 'top_10_acc': 0.48387632978723405}), eval_loss=defaultdict(<class 'int'>, {'loss': 3.802497806954891, 'top_1_acc': 0.1560726950777338, 'top_5_acc': 0.3882701684819891, 'top_10_acc': 0.5246176861702128})\n"
     ]
    },
    {
     "name": "stderr",
     "output_type": "stream",
     "text": [
      "Current Epoch Progress: 100%|█████████▉| 234/235 [00:15<00:00, 16.34it/s]"
     ]
    },
    {
     "name": "stdout",
     "output_type": "stream",
     "text": [
      "Epoch=4, loss=defaultdict(<class 'int'>, {'loss': 3.7294978537458054, 'top_1_acc': 0.16623448583673925, 'top_5_acc': 0.4037067819148936, 'top_10_acc': 0.5381150265957447}), eval_loss=defaultdict(<class 'int'>, {'loss': 3.669123013476108, 'top_1_acc': 0.17247340425531915, 'top_5_acc': 0.41653922872340426, 'top_10_acc': 0.5540170656873825})\n"
     ]
    },
    {
     "name": "stderr",
     "output_type": "stream",
     "text": [
      "Current Epoch Progress:   0%|          | 0/235 [00:00<?, ?it/s]          "
     ]
    },
    {
     "name": "stdout",
     "output_type": "stream",
     "text": [
      "Epoch=5, loss=defaultdict(<class 'int'>, {'loss': 3.5320271228222135, 'top_1_acc': 0.19603834221971797, 'top_5_acc': 0.4526817376309253, 'top_10_acc': 0.5878490691489362}), eval_loss=defaultdict(<class 'int'>, {'loss': 3.5616808688386956, 'top_1_acc': 0.19790558510638298, 'top_5_acc': 0.4455119680851064, 'top_10_acc': 0.5792996454746165})\n"
     ]
    },
    {
     "name": "stderr",
     "output_type": "stream",
     "text": [
      "Current Epoch Progress:   0%|          | 0/235 [00:00<?, ?it/s]          "
     ]
    },
    {
     "name": "stdout",
     "output_type": "stream",
     "text": [
      "Epoch=6, loss=defaultdict(<class 'int'>, {'loss': 3.352594826069284, 'top_1_acc': 0.22395833337560614, 'top_5_acc': 0.49248670212765955, 'top_10_acc': 0.6256427305809995}), eval_loss=defaultdict(<class 'int'>, {'loss': 3.1572013956435185, 'top_1_acc': 0.25353501775163284, 'top_5_acc': 0.5356493795171697, 'top_10_acc': 0.6705064273895102})\n"
     ]
    },
    {
     "name": "stderr",
     "output_type": "stream",
     "text": [
      "Current Epoch Progress:   0%|          | 0/235 [00:00<?, ?it/s]          "
     ]
    },
    {
     "name": "stdout",
     "output_type": "stream",
     "text": [
      "Epoch=7, loss=defaultdict(<class 'int'>, {'loss': 3.180242393371907, 'top_1_acc': 0.2525986259287976, 'top_5_acc': 0.5316323138297873, 'top_10_acc': 0.663813164893617}), eval_loss=defaultdict(<class 'int'>, {'loss': 2.9713896984749653, 'top_1_acc': 0.291079344013904, 'top_5_acc': 0.5804078015875309, 'top_10_acc': 0.7098847518575953})\n"
     ]
    },
    {
     "name": "stderr",
     "output_type": "stream",
     "text": [
      "Current Epoch Progress: 100%|█████████▉| 234/235 [00:14<00:00, 15.61it/s]"
     ]
    },
    {
     "name": "stdout",
     "output_type": "stream",
     "text": [
      "Epoch=8, loss=defaultdict(<class 'int'>, {'loss': 3.0308457029626723, 'top_1_acc': 0.27903922872340425, 'top_5_acc': 0.5662732712765958, 'top_10_acc': 0.6942929965384463}), eval_loss=defaultdict(<class 'int'>, {'loss': 2.812632061572785, 'top_1_acc': 0.3157801418862444, 'top_5_acc': 0.613940602921425, 'top_10_acc': 0.7390625})\n"
     ]
    },
    {
     "name": "stderr",
     "output_type": "stream",
     "text": [
      "Current Epoch Progress: 100%|█████████▉| 234/235 [00:13<00:00, 17.03it/s]"
     ]
    },
    {
     "name": "stdout",
     "output_type": "stream",
     "text": [
      "Epoch=9, loss=defaultdict(<class 'int'>, {'loss': 2.8861675130560043, 'top_1_acc': 0.3042442376309253, 'top_5_acc': 0.5979942377577436, 'top_10_acc': 0.7216921542553192}), eval_loss=defaultdict(<class 'int'>, {'loss': 2.7036011198733716, 'top_1_acc': 0.3382923316448293, 'top_5_acc': 0.6353778813747649, 'top_10_acc': 0.756998005319149})\n"
     ]
    },
    {
     "name": "stderr",
     "output_type": "stream",
     "text": [
      "Current Epoch Progress:   0%|          | 0/235 [00:00<?, ?it/s]          "
     ]
    },
    {
     "name": "stdout",
     "output_type": "stream",
     "text": [
      "Epoch=10, loss=defaultdict(<class 'int'>, {'loss': 2.74091346618977, 'top_1_acc': 0.3284408244680851, 'top_5_acc': 0.6288453015875309, 'top_10_acc': 0.7491799646235527}), eval_loss=defaultdict(<class 'int'>, {'loss': 2.458032644555924, 'top_1_acc': 0.38618683510638296, 'top_5_acc': 0.6898105053191489, 'top_10_acc': 0.801811835106383})\n"
     ]
    },
    {
     "name": "stderr",
     "output_type": "stream",
     "text": [
      "Current Epoch Progress:   0%|          | 0/235 [00:00<?, ?it/s]          "
     ]
    },
    {
     "name": "stdout",
     "output_type": "stream",
     "text": [
      "Epoch=11, loss=defaultdict(<class 'int'>, {'loss': 2.587184412935947, 'top_1_acc': 0.3585050976022761, 'top_5_acc': 0.659940159574468, 'top_10_acc': 0.7750443263256803}), eval_loss=defaultdict(<class 'int'>, {'loss': 2.364429025447115, 'top_1_acc': 0.40226063829787234, 'top_5_acc': 0.7021442819148936, 'top_10_acc': 0.8139516845662543})\n"
     ]
    },
    {
     "name": "stderr",
     "output_type": "stream",
     "text": [
      "Current Epoch Progress:   0%|          | 0/235 [00:00<?, ?it/s]          "
     ]
    },
    {
     "name": "stdout",
     "output_type": "stream",
     "text": [
      "Epoch=12, loss=defaultdict(<class 'int'>, {'loss': 2.4406357511560968, 'top_1_acc': 0.38639738483631864, 'top_5_acc': 0.6888907359001485, 'top_10_acc': 0.799130097602276}), eval_loss=defaultdict(<class 'int'>, {'loss': 2.149651640526792, 'top_1_acc': 0.44922429082241466, 'top_5_acc': 0.7480939718002969, 'top_10_acc': 0.8477338210065314})\n"
     ]
    },
    {
     "name": "stderr",
     "output_type": "stream",
     "text": [
      "Current Epoch Progress: 100%|█████████▉| 234/235 [00:13<00:00, 17.42it/s]"
     ]
    },
    {
     "name": "stdout",
     "output_type": "stream",
     "text": [
      "Epoch=13, loss=defaultdict(<class 'int'>, {'loss': 2.2921138225717748, 'top_1_acc': 0.4177637412192974, 'top_5_acc': 0.7171985816448293, 'top_10_acc': 0.8250443263256804}), eval_loss=defaultdict(<class 'int'>, {'loss': 2.0240900886819717, 'top_1_acc': 0.4768894061129144, 'top_5_acc': 0.7733543882978723, 'top_10_acc': 0.8656028369639782})\n"
     ]
    },
    {
     "name": "stderr",
     "output_type": "stream",
     "text": [
      "Current Epoch Progress: 100%|█████████▉| 234/235 [00:13<00:00, 17.48it/s]"
     ]
    },
    {
     "name": "stdout",
     "output_type": "stream",
     "text": [
      "Epoch=14, loss=defaultdict(<class 'int'>, {'loss': 2.1437258558070407, 'top_1_acc': 0.4449745124958931, 'top_5_acc': 0.7479277483960416, 'top_10_acc': 0.8486646720703612}), eval_loss=defaultdict(<class 'int'>, {'loss': 1.7905493726121617, 'top_1_acc': 0.5305851063829787, 'top_5_acc': 0.8156637856300841, 'top_10_acc': 0.8959829345662543})\n"
     ]
    },
    {
     "name": "stderr",
     "output_type": "stream",
     "text": [
      "Current Epoch Progress:   1%|          | 2/235 [00:00<00:15, 15.06it/s]  "
     ]
    },
    {
     "name": "stdout",
     "output_type": "stream",
     "text": [
      "Epoch=15, loss=defaultdict(<class 'int'>, {'loss': 2.0075682675584834, 'top_1_acc': 0.470766844013904, 'top_5_acc': 0.7756482712765957, 'top_10_acc': 0.8683787678150421}), eval_loss=defaultdict(<class 'int'>, {'loss': 1.8262999017187889, 'top_1_acc': 0.5146609042553192, 'top_5_acc': 0.8077681739279564, 'top_10_acc': 0.8930019946808511})\n"
     ]
    },
    {
     "name": "stderr",
     "output_type": "stream",
     "text": [
      "Current Epoch Progress:   0%|          | 0/235 [00:00<?, ?it/s]          "
     ]
    },
    {
     "name": "stdout",
     "output_type": "stream",
     "text": [
      "Epoch=16, loss=defaultdict(<class 'int'>, {'loss': 1.8454371939314174, 'top_1_acc': 0.510405585106383, 'top_5_acc': 0.8025044327086591, 'top_10_acc': 0.8891345303109351}), eval_loss=defaultdict(<class 'int'>, {'loss': 1.4987995284668942, 'top_1_acc': 0.5924700797872341, 'top_5_acc': 0.8647883422831272, 'top_10_acc': 0.9291832890916378})\n"
     ]
    },
    {
     "name": "stderr",
     "output_type": "stream",
     "text": [
      "Current Epoch Progress: 100%|█████████▉| 234/235 [00:13<00:00, 17.13it/s]"
     ]
    },
    {
     "name": "stdout",
     "output_type": "stream",
     "text": [
      "Epoch=17, loss=defaultdict(<class 'int'>, {'loss': 1.7054175052237004, 'top_1_acc': 0.536425088694755, 'top_5_acc': 0.8288453015875309, 'top_10_acc': 0.9078734486661059}), eval_loss=defaultdict(<class 'int'>, {'loss': 1.4821604855517123, 'top_1_acc': 0.594376108240574, 'top_5_acc': 0.8659906914893617, 'top_10_acc': 0.931876108240574})\n"
     ]
    },
    {
     "name": "stderr",
     "output_type": "stream",
     "text": [
      "Current Epoch Progress: 100%|█████████▉| 234/235 [00:13<00:00, 17.23it/s]"
     ]
    },
    {
     "name": "stdout",
     "output_type": "stream",
     "text": [
      "Epoch=18, loss=defaultdict(<class 'int'>, {'loss': 1.5780994009464344, 'top_1_acc': 0.5669492465384462, 'top_5_acc': 0.8508255763256803, 'top_10_acc': 0.9215093085106383}), eval_loss=defaultdict(<class 'int'>, {'loss': 1.3017741837400072, 'top_1_acc': 0.635943040949233, 'top_5_acc': 0.8944869239279565, 'top_10_acc': 0.9492907803109352})\n"
     ]
    },
    {
     "name": "stderr",
     "output_type": "stream",
     "text": [
      "Current Epoch Progress:   0%|          | 0/235 [00:00<?, ?it/s]          "
     ]
    },
    {
     "name": "stdout",
     "output_type": "stream",
     "text": [
      "Epoch=19, loss=defaultdict(<class 'int'>, {'loss': 1.4269518299305692, 'top_1_acc': 0.6016068263256803, 'top_5_acc': 0.8735206117021277, 'top_10_acc': 0.9377714983960416}), eval_loss=defaultdict(<class 'int'>, {'loss': 1.0997038397383183, 'top_1_acc': 0.687095523134191, 'top_5_acc': 0.9218251329787234, 'top_10_acc': 0.9646775265957447})\n"
     ]
    },
    {
     "name": "stderr",
     "output_type": "stream",
     "text": [
      "Current Epoch Progress: 100%|█████████▉| 234/235 [00:13<00:00, 17.10it/s]"
     ]
    },
    {
     "name": "stdout",
     "output_type": "stream",
     "text": [
      "Epoch=20, loss=defaultdict(<class 'int'>, {'loss': 1.3167326703984688, 'top_1_acc': 0.6254432624958931, 'top_5_acc': 0.8915281473322118, 'top_10_acc': 0.9485760196726373}), eval_loss=defaultdict(<class 'int'>, {'loss': 1.2403532180380314, 'top_1_acc': 0.6470633866939138, 'top_5_acc': 0.9030252659574468, 'top_10_acc': 0.9554355053191489})\n"
     ]
    },
    {
     "name": "stderr",
     "output_type": "stream",
     "text": [
      "Current Epoch Progress: 100%|█████████▉| 234/235 [00:14<00:00, 17.00it/s]"
     ]
    },
    {
     "name": "stdout",
     "output_type": "stream",
     "text": [
      "Epoch=21, loss=defaultdict(<class 'int'>, {'loss': 1.183013686981607, 'top_1_acc': 0.6597240691489362, 'top_5_acc': 0.9124335106382979, 'top_10_acc': 0.9610704787234042}), eval_loss=defaultdict(<class 'int'>, {'loss': 0.9066016661359909, 'top_1_acc': 0.7358654699427016, 'top_5_acc': 0.9471520390916378, 'top_10_acc': 0.9787621898854032})\n"
     ]
    },
    {
     "name": "stderr",
     "output_type": "stream",
     "text": [
      "Current Epoch Progress:   0%|          | 0/235 [00:00<?, ?it/s]          "
     ]
    },
    {
     "name": "stdout",
     "output_type": "stream",
     "text": [
      "Epoch=22, loss=defaultdict(<class 'int'>, {'loss': 1.0808595616766747, 'top_1_acc': 0.6828568263256803, 'top_5_acc': 0.9253269061129143, 'top_10_acc': 0.9679465869639782}), eval_loss=defaultdict(<class 'int'>, {'loss': 0.8337259082084006, 'top_1_acc': 0.7547983156873824, 'top_5_acc': 0.9568650265957447, 'top_10_acc': 0.983876329787234})\n"
     ]
    },
    {
     "name": "stderr",
     "output_type": "stream",
     "text": [
      "Current Epoch Progress:   0%|          | 0/235 [00:00<?, ?it/s]          "
     ]
    },
    {
     "name": "stdout",
     "output_type": "stream",
     "text": [
      "Epoch=23, loss=defaultdict(<class 'int'>, {'loss': 0.9723280729131496, 'top_1_acc': 0.7116467199427017, 'top_5_acc': 0.9388353281832756, 'top_10_acc': 0.9762078901554676}), eval_loss=defaultdict(<class 'int'>, {'loss': 0.7400361834688389, 'top_1_acc': 0.7799479167512122, 'top_5_acc': 0.9646830675449777, 'top_10_acc': 0.9876218973322117})\n"
     ]
    },
    {
     "name": "stderr",
     "output_type": "stream",
     "text": [
      "Current Epoch Progress: 100%|█████████▉| 234/235 [00:13<00:00, 17.23it/s]"
     ]
    },
    {
     "name": "stdout",
     "output_type": "stream",
     "text": [
      "Epoch=24, loss=defaultdict(<class 'int'>, {'loss': 0.8921591682636991, 'top_1_acc': 0.7340259308510638, 'top_5_acc': 0.9493683510638298, 'top_10_acc': 0.981504876055616}), eval_loss=defaultdict(<class 'int'>, {'loss': 0.6809253023025837, 'top_1_acc': 0.7960050976022761, 'top_5_acc': 0.9711269946808511, 'top_10_acc': 0.9901817377577437})\n"
     ]
    },
    {
     "name": "stderr",
     "output_type": "stream",
     "text": [
      "Current Epoch Progress:   0%|          | 0/235 [00:00<?, ?it/s]          "
     ]
    },
    {
     "name": "stdout",
     "output_type": "stream",
     "text": [
      "Epoch=25, loss=defaultdict(<class 'int'>, {'loss': 0.8086184253083899, 'top_1_acc': 0.7552027925531914, 'top_5_acc': 0.958532801587531, 'top_10_acc': 0.9851950356300841}), eval_loss=defaultdict(<class 'int'>, {'loss': 1.0901675138067692, 'top_1_acc': 0.6841533688788718, 'top_5_acc': 0.9283023050490846, 'top_10_acc': 0.9702958776595745})\n"
     ]
    },
    {
     "name": "stderr",
     "output_type": "stream",
     "text": [
      "Progress:   1%|          | 28/4000 [08:29<20:26:32, 18.53s/it] 16.01it/s]"
     ]
    },
    {
     "name": "stdout",
     "output_type": "stream",
     "text": [
      "Epoch=26, loss=defaultdict(<class 'int'>, {'loss': 0.722743934392929, 'top_1_acc': 0.7773936170212766, 'top_5_acc': 0.9684341755319149, 'top_10_acc': 0.9899046986661059}), eval_loss=defaultdict(<class 'int'>, {'loss': 0.49289133561418413, 'top_1_acc': 0.8513519505237012, 'top_5_acc': 0.9858710106382979, 'top_10_acc': 0.9963929521276595})\n"
     ]
    },
    {
     "name": "stderr",
     "output_type": "stream",
     "text": [
      "Current Epoch Progress:   1%|          | 2/235 [00:00<00:19, 11.69it/s]  "
     ]
    },
    {
     "name": "stdout",
     "output_type": "stream",
     "text": [
      "Epoch=27, loss=defaultdict(<class 'int'>, {'loss': 0.6801297563187619, 'top_1_acc': 0.7898936170212766, 'top_5_acc': 0.9716090425531915, 'top_10_acc': 0.9911125888215735}), eval_loss=defaultdict(<class 'int'>, {'loss': 0.4934490046602614, 'top_1_acc': 0.8490248228641266, 'top_5_acc': 0.9850953015875309, 'top_10_acc': 0.9962101063829787})\n"
     ]
    },
    {
     "name": "stderr",
     "output_type": "stream",
     "text": [
      "Current Epoch Progress: 100%|█████████▉| 234/235 [00:14<00:00, 17.20it/s]"
     ]
    },
    {
     "name": "stdout",
     "output_type": "stream",
     "text": [
      "Epoch=28, loss=defaultdict(<class 'int'>, {'loss': 0.6098121986744252, 'top_1_acc': 0.8105607271194458, 'top_5_acc': 0.9772163122258288, 'top_10_acc': 0.9933399824385948}), eval_loss=defaultdict(<class 'int'>, {'loss': 0.39873638064303296, 'top_1_acc': 0.8786125888215734, 'top_5_acc': 0.991156914893617, 'top_10_acc': 0.9977559840425532})\n"
     ]
    },
    {
     "name": "stderr",
     "output_type": "stream",
     "text": [
      "Current Epoch Progress:   1%|          | 2/235 [00:00<00:22, 10.31it/s]  "
     ]
    },
    {
     "name": "stdout",
     "output_type": "stream",
     "text": [
      "Epoch=29, loss=defaultdict(<class 'int'>, {'loss': 0.5655779891825737, 'top_1_acc': 0.8215924202127659, 'top_5_acc': 0.980474290949233, 'top_10_acc': 0.9948747784533399}), eval_loss=defaultdict(<class 'int'>, {'loss': 0.49948721274416497, 'top_1_acc': 0.8466589095744681, 'top_5_acc': 0.9840647164811479, 'top_10_acc': 0.9952958776595745})\n"
     ]
    },
    {
     "name": "stderr",
     "output_type": "stream",
     "text": [
      "Current Epoch Progress:   0%|          | 0/235 [00:00<?, ?it/s]          "
     ]
    },
    {
     "name": "stdout",
     "output_type": "stream",
     "text": [
      "Epoch=30, loss=defaultdict(<class 'int'>, {'loss': 0.558688471418746, 'top_1_acc': 0.8243738920130628, 'top_5_acc': 0.9814273050490846, 'top_10_acc': 0.9952127659574468}), eval_loss=defaultdict(<class 'int'>, {'loss': 0.4103086154511634, 'top_1_acc': 0.8714261968085106, 'top_5_acc': 0.9890625, 'top_10_acc': 0.996841755319149})\n"
     ]
    },
    {
     "name": "stderr",
     "output_type": "stream",
     "text": [
      "Current Epoch Progress:   1%|          | 2/235 [00:00<00:14, 15.61it/s]  "
     ]
    },
    {
     "name": "stdout",
     "output_type": "stream",
     "text": [
      "Epoch=31, loss=defaultdict(<class 'int'>, {'loss': 0.5107267341715225, 'top_1_acc': 0.8381981382978724, 'top_5_acc': 0.9845301420130628, 'top_10_acc': 0.9965702571767442}), eval_loss=defaultdict(<class 'int'>, {'loss': 0.5070300073065657, 'top_1_acc': 0.8425310284533399, 'top_5_acc': 0.9832114361702128, 'top_10_acc': 0.995561835106383})\n"
     ]
    },
    {
     "name": "stderr",
     "output_type": "stream",
     "text": [
      "Current Epoch Progress: 100%|█████████▉| 234/235 [00:13<00:00, 17.53it/s]"
     ]
    },
    {
     "name": "stdout",
     "output_type": "stream",
     "text": [
      "Epoch=32, loss=defaultdict(<class 'int'>, {'loss': 0.475645897489913, 'top_1_acc': 0.8488031914893617, 'top_5_acc': 0.9869570037151905, 'top_10_acc': 0.9969581117021277}), eval_loss=defaultdict(<class 'int'>, {'loss': 0.31574949108539746, 'top_1_acc': 0.902969858240574, 'top_5_acc': 0.9940159574468085, 'top_10_acc': 0.9990359042553192})\n"
     ]
    },
    {
     "name": "stderr",
     "output_type": "stream",
     "text": [
      "Current Epoch Progress:   1%|          | 2/235 [00:00<00:22, 10.41it/s]  "
     ]
    },
    {
     "name": "stdout",
     "output_type": "stream",
     "text": [
      "Epoch=33, loss=defaultdict(<class 'int'>, {'loss': 0.45366578666453666, 'top_1_acc': 0.8555241579705096, 'top_5_acc': 0.9882313829787234, 'top_10_acc': 0.9973238031914894}), eval_loss=defaultdict(<class 'int'>, {'loss': 0.3222611244688643, 'top_1_acc': 0.8980939718002968, 'top_5_acc': 0.9939827127659574, 'top_10_acc': 0.9987699468085106})\n"
     ]
    },
    {
     "name": "stderr",
     "output_type": "stream",
     "text": [
      "Current Epoch Progress:   0%|          | 0/235 [00:00<?, ?it/s]          "
     ]
    },
    {
     "name": "stdout",
     "output_type": "stream",
     "text": [
      "Epoch=34, loss=defaultdict(<class 'int'>, {'loss': 0.4207107144467374, 'top_1_acc': 0.8660183954746166, 'top_5_acc': 0.9894946808510638, 'top_10_acc': 0.9974734042553192}), eval_loss=defaultdict(<class 'int'>, {'loss': 0.2777660388261714, 'top_1_acc': 0.912217420212766, 'top_5_acc': 0.9960161792471054, 'top_10_acc': 0.9991578015875309})\n"
     ]
    },
    {
     "name": "stderr",
     "output_type": "stream",
     "text": [
      "Current Epoch Progress:   1%|          | 2/235 [00:00<00:21, 11.09it/s]  "
     ]
    },
    {
     "name": "stdout",
     "output_type": "stream",
     "text": [
      "Epoch=35, loss=defaultdict(<class 'int'>, {'loss': 0.40209105331847006, 'top_1_acc': 0.8731992465384463, 'top_5_acc': 0.990874335106383, 'top_10_acc': 0.9979609930768926}), eval_loss=defaultdict(<class 'int'>, {'loss': 0.3730453741043172, 'top_1_acc': 0.8820866579705097, 'top_5_acc': 0.9919769505237012, 'top_10_acc': 0.9980053191489362})\n"
     ]
    },
    {
     "name": "stderr",
     "output_type": "stream",
     "text": [
      "Current Epoch Progress:   0%|          | 0/235 [00:00<?, ?it/s]          "
     ]
    },
    {
     "name": "stdout",
     "output_type": "stream",
     "text": [
      "Epoch=36, loss=defaultdict(<class 'int'>, {'loss': 0.4005341957224176, 'top_1_acc': 0.8718306739279564, 'top_5_acc': 0.9904310728641267, 'top_10_acc': 0.9981382978723404}), eval_loss=defaultdict(<class 'int'>, {'loss': 0.2726088175748257, 'top_1_acc': 0.9147772606382979, 'top_5_acc': 0.9954621010638298, 'top_10_acc': 0.9992353723404256})\n"
     ]
    },
    {
     "name": "stderr",
     "output_type": "stream",
     "text": [
      "Current Epoch Progress:   1%|          | 2/235 [00:00<00:15, 14.80it/s]  "
     ]
    },
    {
     "name": "stdout",
     "output_type": "stream",
     "text": [
      "Epoch=37, loss=defaultdict(<class 'int'>, {'loss': 0.38098591737290644, 'top_1_acc': 0.8783521720703612, 'top_5_acc': 0.9917553191489362, 'top_10_acc': 0.9984042553191489}), eval_loss=defaultdict(<class 'int'>, {'loss': 0.31473360892305985, 'top_1_acc': 0.9000387856300841, 'top_5_acc': 0.9938331117021276, 'top_10_acc': 0.9986203457446808})\n"
     ]
    },
    {
     "name": "stderr",
     "output_type": "stream",
     "text": [
      "Current Epoch Progress: 100%|█████████▉| 234/235 [00:13<00:00, 17.26it/s]"
     ]
    },
    {
     "name": "stdout",
     "output_type": "stream",
     "text": [
      "Epoch=38, loss=defaultdict(<class 'int'>, {'loss': 0.36766777127347094, 'top_1_acc': 0.8844027039852548, 'top_5_acc': 0.9916223404255319, 'top_10_acc': 0.9982491135597229}), eval_loss=defaultdict(<class 'int'>, {'loss': 0.22778939477940824, 'top_1_acc': 0.9295489805809996, 'top_5_acc': 0.9972739361702128, 'top_10_acc': 0.9995678191489362})\n"
     ]
    },
    {
     "name": "stderr",
     "output_type": "stream",
     "text": [
      "Current Epoch Progress:   1%|          | 2/235 [00:00<00:21, 10.68it/s]  "
     ]
    },
    {
     "name": "stdout",
     "output_type": "stream",
     "text": [
      "Epoch=39, loss=defaultdict(<class 'int'>, {'loss': 0.35933420410815703, 'top_1_acc': 0.8853834220703612, 'top_5_acc': 0.9920101952045521, 'top_10_acc': 0.9982878989361702}), eval_loss=defaultdict(<class 'int'>, {'loss': 0.24639717372173958, 'top_1_acc': 0.9224734042553191, 'top_5_acc': 0.9960826686088075, 'top_10_acc': 0.9992852393617021})\n"
     ]
    },
    {
     "name": "stderr",
     "output_type": "stream",
     "text": [
      "Progress:   1%|          | 42/4000 [12:42<19:34:36, 17.81s/it] 17.76it/s]"
     ]
    },
    {
     "name": "stdout",
     "output_type": "stream",
     "text": [
      "Epoch=40, loss=defaultdict(<class 'int'>, {'loss': 0.3663509077848272, 'top_1_acc': 0.8824911348363187, 'top_5_acc': 0.9919270835024245, 'top_10_acc': 0.9983543882978724}), eval_loss=defaultdict(<class 'int'>, {'loss': 0.25679666114614363, 'top_1_acc': 0.9190214983960415, 'top_5_acc': 0.995811170212766, 'top_10_acc': 0.9992021276595745})\n"
     ]
    },
    {
     "name": "stderr",
     "output_type": "stream",
     "text": [
      "Current Epoch Progress:   0%|          | 0/235 [00:00<?, ?it/s]          "
     ]
    },
    {
     "name": "stdout",
     "output_type": "stream",
     "text": [
      "Epoch=41, loss=defaultdict(<class 'int'>, {'loss': 0.34644390807506886, 'top_1_acc': 0.8890458776595744, 'top_5_acc': 0.9931349734042553, 'top_10_acc': 0.9986702127659575}), eval_loss=defaultdict(<class 'int'>, {'loss': 0.2299719441444316, 'top_1_acc': 0.9275044327086591, 'top_5_acc': 0.9965813388215735, 'top_10_acc': 0.9993018617021276})\n"
     ]
    },
    {
     "name": "stderr",
     "output_type": "stream",
     "text": [
      "Current Epoch Progress:   0%|          | 0/235 [00:00<?, ?it/s]          "
     ]
    },
    {
     "name": "stdout",
     "output_type": "stream",
     "text": [
      "Epoch=42, loss=defaultdict(<class 'int'>, {'loss': 0.31126477807126146, 'top_1_acc': 0.8999002659574468, 'top_5_acc': 0.9941932624958931, 'top_10_acc': 0.9989527925531915}), eval_loss=defaultdict(<class 'int'>, {'loss': 0.2318532313438172, 'top_1_acc': 0.9274988920130628, 'top_5_acc': 0.9970966313747649, 'top_10_acc': 0.9993184840425532})\n"
     ]
    },
    {
     "name": "stderr",
     "output_type": "stream",
     "text": [
      "Current Epoch Progress:   0%|          | 0/235 [00:00<?, ?it/s]          "
     ]
    },
    {
     "name": "stdout",
     "output_type": "stream",
     "text": [
      "Epoch=43, loss=defaultdict(<class 'int'>, {'loss': 0.2933097481093508, 'top_1_acc': 0.9063552749917863, 'top_5_acc': 0.9943705675449778, 'top_10_acc': 0.9988031914893617}), eval_loss=defaultdict(<class 'int'>, {'loss': 0.25461570392263694, 'top_1_acc': 0.919409352921425, 'top_5_acc': 0.9955839983960415, 'top_10_acc': 0.9990248228641266})\n"
     ]
    },
    {
     "name": "stderr",
     "output_type": "stream",
     "text": [
      "Current Epoch Progress:   0%|          | 0/235 [00:00<?, ?it/s]          "
     ]
    },
    {
     "name": "stdout",
     "output_type": "stream",
     "text": [
      "Epoch=44, loss=defaultdict(<class 'int'>, {'loss': 0.3298442424611842, 'top_1_acc': 0.8951130319148937, 'top_5_acc': 0.9934286348363186, 'top_10_acc': 0.9988696808510639}), eval_loss=defaultdict(<class 'int'>, {'loss': 0.25411488806947746, 'top_1_acc': 0.9194924646235527, 'top_5_acc': 0.9960161792471054, 'top_10_acc': 0.9992021276595745})\n"
     ]
    },
    {
     "name": "stderr",
     "output_type": "stream",
     "text": [
      "Current Epoch Progress:   1%|          | 2/235 [00:00<00:21, 10.89it/s]  "
     ]
    },
    {
     "name": "stdout",
     "output_type": "stream",
     "text": [
      "Epoch=45, loss=defaultdict(<class 'int'>, {'loss': 0.31964049922659044, 'top_1_acc': 0.8980053191489362, 'top_5_acc': 0.9940602837724889, 'top_10_acc': 0.9988752218002969}), eval_loss=defaultdict(<class 'int'>, {'loss': 0.2580849267066793, 'top_1_acc': 0.91875, 'top_5_acc': 0.9954953457446809, 'top_10_acc': 0.9992686170212766})\n"
     ]
    },
    {
     "name": "stderr",
     "output_type": "stream",
     "text": [
      "Current Epoch Progress: 100%|█████████▉| 234/235 [00:13<00:00, 16.73it/s]"
     ]
    },
    {
     "name": "stdout",
     "output_type": "stream",
     "text": [
      "Epoch=46, loss=defaultdict(<class 'int'>, {'loss': 0.28543046735068583, 'top_1_acc': 0.9082280585106383, 'top_5_acc': 0.9950964095744681, 'top_10_acc': 0.9992852393617021}), eval_loss=defaultdict(<class 'int'>, {'loss': 0.18427950337212137, 'top_1_acc': 0.9418550531914893, 'top_5_acc': 0.9979554521276596, 'top_10_acc': 0.9996509308510638})\n"
     ]
    },
    {
     "name": "stderr",
     "output_type": "stream",
     "text": [
      "Current Epoch Progress:   1%|          | 2/235 [00:00<00:21, 10.64it/s]  "
     ]
    },
    {
     "name": "stdout",
     "output_type": "stream",
     "text": [
      "Epoch=47, loss=defaultdict(<class 'int'>, {'loss': 0.2733809034875099, 'top_1_acc': 0.9127382537151905, 'top_5_acc': 0.9951961436170212, 'top_10_acc': 0.9991190159574468}), eval_loss=defaultdict(<class 'int'>, {'loss': 0.4107803912872964, 'top_1_acc': 0.8758532803109351, 'top_5_acc': 0.9872894505237011, 'top_10_acc': 0.9963153813747649})\n"
     ]
    },
    {
     "name": "stderr",
     "output_type": "stream",
     "text": [
      "Current Epoch Progress:  29%|██▉       | 68/235 [00:04<00:09, 17.30it/s]"
     ]
    }
   ],
   "source": [
    "def train_cb(epoch, loss, eval_loss,model):\n",
    "    print(f\"Epoch={epoch}, loss={loss}, eval_loss={eval_loss}\")\n",
    "train(model=model, optim=optim, epochs=4000, train_dl=train_dl, val_dl=train_dl, train_cb=train_cb, save_dir=save_dir)"
   ]
  },
  {
   "cell_type": "code",
   "execution_count": null,
   "id": "222641e8",
   "metadata": {},
   "outputs": [],
   "source": []
  }
 ],
 "metadata": {
  "kernelspec": {
   "display_name": "Python 3 (ipykernel)",
   "language": "python",
   "name": "python3"
  },
  "language_info": {
   "codemirror_mode": {
    "name": "ipython",
    "version": 3
   },
   "file_extension": ".py",
   "mimetype": "text/x-python",
   "name": "python",
   "nbconvert_exporter": "python",
   "pygments_lexer": "ipython3",
   "version": "3.9.5"
  }
 },
 "nbformat": 4,
 "nbformat_minor": 5
}
