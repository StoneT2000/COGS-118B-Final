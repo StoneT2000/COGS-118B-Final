{
 "cells": [
  {
   "cell_type": "code",
   "execution_count": 1,
   "id": "659c19dd",
   "metadata": {},
   "outputs": [],
   "source": [
    "import pandas as pd\n",
    "import torch\n",
    "import numpy as np\n",
    "import os\n",
    "import cv2\n",
    "import matplotlib.pyplot as plt"
   ]
  },
  {
   "cell_type": "code",
   "execution_count": 4,
   "id": "a9a562aa",
   "metadata": {},
   "outputs": [],
   "source": [
    "data_path = \"../../tiny-imagenet-200\""
   ]
  },
  {
   "cell_type": "code",
   "execution_count": 5,
   "id": "0ca0ae53",
   "metadata": {},
   "outputs": [],
   "source": [
    "classes = pd.read_csv(f\"{data_path}/words.txt\", sep=\"\\t\", names=[\"id\", \"entity\"])"
   ]
  },
  {
   "cell_type": "code",
   "execution_count": 6,
   "id": "02eb00d9",
   "metadata": {},
   "outputs": [],
   "source": [
    "train_images = []\n",
    "train_label_ids = []"
   ]
  },
  {
   "cell_type": "code",
   "execution_count": 7,
   "id": "ed92ee4c",
   "metadata": {},
   "outputs": [],
   "source": [
    "for f in os.walk(f\"{data_path}/train/\"):\n",
    "    folders = sorted(f[1])\n",
    "    for class_id in folders:\n",
    "        # print(classes[classes['id'] == class_id]['entity'].values)\n",
    "        # print(class_id)\n",
    "        for f2 in os.walk(f\"{data_path}/train/{class_id}/images\"):\n",
    "            image_paths = sorted(f2[2])\n",
    "            for img_path in image_paths:\n",
    "                img = cv2.imread(f\"{data_path}/train/{class_id}/images/{img_path}\")\n",
    "                img = cv2.cvtColor(img, cv2.COLOR_BGR2RGB)\n",
    "                train_images.append(img)\n",
    "                train_label_ids.append(class_id)\n",
    "    break"
   ]
  },
  {
   "cell_type": "code",
   "execution_count": 8,
   "id": "f8a8cc80",
   "metadata": {},
   "outputs": [
    {
     "data": {
      "text/plain": [
       "100000"
      ]
     },
     "execution_count": 8,
     "metadata": {},
     "output_type": "execute_result"
    }
   ],
   "source": [
    "len(train_images)"
   ]
  },
  {
   "cell_type": "code",
   "execution_count": 9,
   "id": "ddd256c1",
   "metadata": {},
   "outputs": [],
   "source": [
    "train_images = np.stack(train_images)\n",
    "# for torch, should be about 4-5 gigabytes\n",
    "train_images = torch.from_numpy(train_images).float()"
   ]
  },
  {
   "cell_type": "code",
   "execution_count": 10,
   "id": "3b622ce1",
   "metadata": {},
   "outputs": [],
   "source": [
    "import pickle"
   ]
  },
  {
   "cell_type": "code",
   "execution_count": 11,
   "id": "04a8ea8b",
   "metadata": {},
   "outputs": [],
   "source": [
    "with open(\"dataset.pkl\", \"wb\") as f:\n",
    "    pickle.dump({\n",
    "        \"train\": train_images,\n",
    "        \"labels\": train_label_ids\n",
    "    }, f)"
   ]
  },
  {
   "cell_type": "code",
   "execution_count": 12,
   "id": "a5f4d366",
   "metadata": {},
   "outputs": [
    {
     "data": {
      "text/plain": [
       "<matplotlib.image.AxesImage at 0x7f35bad10550>"
      ]
     },
     "execution_count": 12,
     "metadata": {},
     "output_type": "execute_result"
    },
    {
     "data": {
      "image/png": "[encoded data removed]",
      "text/plain": [
       "<Figure size 432x288 with 1 Axes>"
      ]
     },
     "metadata": {
      "needs_background": "light"
     },
     "output_type": "display_data"
    }
   ],
   "source": [
    "plt.imshow(train_images[0]/255)"
   ]
  },
  {
   "cell_type": "code",
   "execution_count": 13,
   "id": "91c6ca47",
   "metadata": {},
   "outputs": [],
   "source": [
    "def get_class_name(id):\n",
    "    return classes[classes['id'] == id]"
   ]
  },
  {
   "cell_type": "code",
   "execution_count": 14,
   "id": "d4222326",
   "metadata": {},
   "outputs": [
    {
     "data": {
      "text/html": [
       "<div>\n",
       "<style scoped>\n",
       "    .dataframe tbody tr th:only-of-type {\n",
       "        vertical-align: middle;\n",
       "    }\n",
       "\n",
       "    .dataframe tbody tr th {\n",
       "        vertical-align: top;\n",
       "    }\n",
       "\n",
       "    .dataframe thead th {\n",
       "        text-align: right;\n",
       "    }\n",
       "</style>\n",
       "<table border=\"1\" class=\"dataframe\">\n",
       "  <thead>\n",
       "    <tr style=\"text-align: right;\">\n",
       "      <th></th>\n",
       "      <th>id</th>\n",
       "      <th>entity</th>\n",
       "    </tr>\n",
       "  </thead>\n",
       "  <tbody>\n",
       "    <tr>\n",
       "      <th>50603</th>\n",
       "      <td>n09428293</td>\n",
       "      <td>seashore, coast, seacoast, sea-coast</td>\n",
       "    </tr>\n",
       "  </tbody>\n",
       "</table>\n",
       "</div>"
      ],
      "text/plain": [
       "              id                                entity\n",
       "50603  n09428293  seashore, coast, seacoast, sea-coast"
      ]
     },
     "execution_count": 14,
     "metadata": {},
     "output_type": "execute_result"
    }
   ],
   "source": [
    "get_class_name(train_label_ids[-501])"
   ]
  },
  {
   "cell_type": "code",
   "execution_count": null,
   "id": "9e82953b",
   "metadata": {},
   "outputs": [],
   "source": []
  }
 ],
 "metadata": {
  "kernelspec": {
   "display_name": "Python 3 (ipykernel)",
   "language": "python",
   "name": "python3"
  },
  "language_info": {
   "codemirror_mode": {
    "name": "ipython",
    "version": 3
   },
   "file_extension": ".py",
   "mimetype": "text/x-python",
   "name": "python",
   "nbconvert_exporter": "python",
   "pygments_lexer": "ipython3",
   "version": "3.9.5"
  }
 },
 "nbformat": 4,
 "nbformat_minor": 5
}
